{
 "cells": [
  {
   "cell_type": "code",
   "execution_count": 220,
   "id": "7ad15c99",
   "metadata": {},
   "outputs": [
    {
     "name": "stdout",
     "output_type": "stream",
     "text": [
      "[0, 0, 0, 0, 0, 0, 0]\n",
      "[0, 'X', 0, 0, 'X', 0, 0]\n",
      "['E', 'X', 0, 0, 0, 'X', 0]\n",
      "[0, 'X', 0, 'X', 'X', 0, 0]\n",
      "[0, 'X', 0, 0, 0, 'X', 'E']\n"
     ]
    }
   ],
   "source": [
    "grid=[[0,0,0,0,0,0,0],\n",
    "      [0,'X',0,0,'X',0,0],\n",
    "      ['E','X',0,0,0,'X',0],\n",
    "      [0,'X',0,'X','X',0,0],\n",
    "      [0,'X',0,0,0,'X','E']]\n",
    "for i in grid:\n",
    "    print(i)"
   ]
  },
  {
   "cell_type": "markdown",
   "id": "d45dd90e",
   "metadata": {},
   "source": [
    "## Enemy present?"
   ]
  },
  {
   "cell_type": "code",
   "execution_count": 221,
   "id": "5ea6bb8e",
   "metadata": {},
   "outputs": [
    {
     "name": "stdout",
     "output_type": "stream",
     "text": [
      "2 3 0\n"
     ]
    }
   ],
   "source": [
    "#RADAR WORKS FROM MID OF THE GRID\n",
    "startRow=len(grid)//2\n",
    "startCol=len(grid[0])//2\n",
    "print(startRow,startCol,grid[startRow][startCol])"
   ]
  },
  {
   "cell_type": "code",
   "execution_count": 223,
   "id": "4bf9c8d9",
   "metadata": {},
   "outputs": [
    {
     "name": "stdout",
     "output_type": "stream",
     "text": [
      "ENEMY FOUND : True\n"
     ]
    }
   ],
   "source": [
    "def enemyPresent(queue,grid):\n",
    "    while queue:\n",
    "        i,j=queue.pop(0)\n",
    "        if i<0 or i>=len(grid)  or j<0 or j>=len(grid[0]):\n",
    "            pass\n",
    "        elif grid[i][j]=='V':\n",
    "            pass\n",
    "        elif grid[i][j]==0: #Not Enemy and mark visited\n",
    "            grid[i][j]='V'\n",
    "            queue.append([i-1,j])\n",
    "            queue.append([i,j-1])\n",
    "            queue.append([i+1,j])\n",
    "            queue.append([i,j+1])\n",
    "        elif grid[i][j]=='X': #Cant look thought -> Obstruction\n",
    "            pass\n",
    "        elif grid[i][j]=='E': #Enemy Found\n",
    "            return True\n",
    "    return False\n",
    "print(\"ENEMY FOUND :\",enemyPresent([[startRow,startCol]],grid))"
   ]
  },
  {
   "cell_type": "markdown",
   "id": "51e52c43",
   "metadata": {},
   "source": [
    "## No. of Enemy present?"
   ]
  },
  {
   "cell_type": "code",
   "execution_count": 224,
   "id": "11569ffb",
   "metadata": {},
   "outputs": [],
   "source": [
    "grid=[[0,0,0,0,0,0,0],\n",
    "      [0,'X',0,0,'X',0,0],\n",
    "      ['E','X',0,0,0,'X',0],\n",
    "      [0,'X',0,'X','X',0,0],\n",
    "      [0,'X',0,0,0,'X','E']]"
   ]
  },
  {
   "cell_type": "code",
   "execution_count": 225,
   "id": "ac04743f",
   "metadata": {},
   "outputs": [
    {
     "name": "stdout",
     "output_type": "stream",
     "text": [
      "2 3 0\n"
     ]
    }
   ],
   "source": [
    "#RADAR WORKS FROM MID OF THE GRID\n",
    "startRow=len(grid)//2\n",
    "startCol=len(grid[0])//2\n",
    "print(startRow,startCol,grid[startRow][startCol])"
   ]
  },
  {
   "cell_type": "code",
   "execution_count": 226,
   "id": "8d3290cf",
   "metadata": {},
   "outputs": [
    {
     "name": "stdout",
     "output_type": "stream",
     "text": [
      "Number of enemies : 2\n"
     ]
    }
   ],
   "source": [
    "def NumberEnemy(queue,grid,count):\n",
    "    while queue:\n",
    "        i,j=queue.pop(0)\n",
    "        if i<0 or i>=len(grid)  or j<0 or j>=len(grid[0]):\n",
    "            pass\n",
    "        elif grid[i][j]=='V':\n",
    "            pass\n",
    "        elif grid[i][j]==0: #Not Enemy and mark visited\n",
    "            grid[i][j]='V'\n",
    "            queue.append([i-1,j])\n",
    "            queue.append([i,j-1])\n",
    "            queue.append([i+1,j])\n",
    "            queue.append([i,j+1])\n",
    "        elif grid[i][j]=='X': #Cant look thought -> Obstruction\n",
    "            pass\n",
    "        elif grid[i][j]=='E': #Enemy Found\n",
    "            count+=1\n",
    "            grid[i][j]='V' #ENEMY VISITED\n",
    "    return count\n",
    "count=0\n",
    "print(\"Number of enemies :\",NumberEnemy([[startRow,startCol]],grid,count))"
   ]
  },
  {
   "cell_type": "code",
   "execution_count": null,
   "id": "487fe379",
   "metadata": {},
   "outputs": [],
   "source": []
  },
  {
   "cell_type": "markdown",
   "id": "57be640c",
   "metadata": {},
   "source": [
    "## Closest Enemy Distance"
   ]
  },
  {
   "cell_type": "code",
   "execution_count": 227,
   "id": "d3fcb7aa",
   "metadata": {},
   "outputs": [],
   "source": [
    "grid=[[0,0,0,0,0,0,0],\n",
    "      [0,'X',0,0,'X',0,0],\n",
    "      ['E','X',0,0,0,'X',0],\n",
    "      [0,'X',0,'X','X',0,0],\n",
    "      [0,'X',0,0,0,'X','E']]"
   ]
  },
  {
   "cell_type": "code",
   "execution_count": 228,
   "id": "427c8b24",
   "metadata": {},
   "outputs": [
    {
     "name": "stdout",
     "output_type": "stream",
     "text": [
      "2 3 0\n"
     ]
    }
   ],
   "source": [
    "#RADAR WORKS FROM MID OF THE GRID\n",
    "startRow=len(grid)//2\n",
    "startCol=len(grid[0])//2\n",
    "print(startRow,startCol,grid[startRow][startCol])"
   ]
  },
  {
   "cell_type": "code",
   "execution_count": 229,
   "id": "9a9f68f5",
   "metadata": {},
   "outputs": [
    {
     "name": "stdout",
     "output_type": "stream",
     "text": [
      "Position: 2 0\n",
      "Distance: 7\n"
     ]
    }
   ],
   "source": [
    "def closestEnemy(queue,grid,count):\n",
    "    while queue:\n",
    "        i,j,steps=queue.pop(0)\n",
    "        if i<0 or i>=len(grid)  or j<0 or j>=len(grid[0]):\n",
    "            pass\n",
    "        elif grid[i][j]!=0 and grid[i][j]!='E' and grid[i][j]!='X':\n",
    "            pass\n",
    "        elif grid[i][j]==0: #Not Enemy and mark visited\n",
    "            grid[i][j]=steps+1\n",
    "            queue.append([i-1,j,steps+1])\n",
    "            queue.append([i,j-1,steps+1])\n",
    "            queue.append([i+1,j,steps+1])\n",
    "            queue.append([i,j+1,steps+1])\n",
    "        elif grid[i][j]=='X': #Cant look thought -> Obstruction\n",
    "            pass\n",
    "        elif grid[i][j]=='E': #Enemy Found\n",
    "            \n",
    "            return [steps,i,j]\n",
    "            #grid[i][j]='V' #ENEMY VISITED\n",
    "    return False\n",
    "count=0\n",
    "distance,i,j=closestEnemy([[startRow,startCol,0]],grid,count)\n",
    "print('Position: '+str(i)+\" \"+str(j))\n",
    "print(\"Distance: \"+str(distance))"
   ]
  },
  {
   "cell_type": "markdown",
   "id": "c6f99608",
   "metadata": {},
   "source": [
    "## Direction to reach closest enemy"
   ]
  },
  {
   "cell_type": "code",
   "execution_count": 230,
   "id": "9d7ff169",
   "metadata": {},
   "outputs": [
    {
     "name": "stdout",
     "output_type": "stream",
     "text": [
      "DIRECTION : [[2, 3], [2, 2], [1, 2], [0, 2], [0, 1], [0, 0], [1, 0], [2, 0]]\n"
     ]
    }
   ],
   "source": [
    "def direction(grid,i,j,distance,stack):\n",
    "    if grid[i][j]==1: #center\n",
    "        stack.insert(0,[i,j])\n",
    "        return stack\n",
    "    if i-1>-1 and grid[i-1][j]==distance-1:\n",
    "        stack.insert(0,[i,j])\n",
    "        return direction(grid,i-1,j,distance-1,stack)\n",
    "    elif i+1<len(grid) and grid[i+1][j]==distance-1:\n",
    "        stack.insert(0,[i,j])\n",
    "        return direction(grid,i+1,j,distance-1,stack)\n",
    "    elif j>-1 and grid[i][j-1]==distance-1:\n",
    "        stack.insert(0,[i,j])\n",
    "        return direction(grid,i,j-1,distance-1,stack)\n",
    "    elif j+1<len(grid) and grid[i][j+1]==distance-1:\n",
    "        stack.insert(0,[i,j])\n",
    "        return direction(grid,i,j+1,distance-1,stack)\n",
    "print(\"DIRECTION :\",direction(grid,i,j,distance+1,[]))"
   ]
  },
  {
   "cell_type": "code",
   "execution_count": null,
   "id": "87d41ca8",
   "metadata": {},
   "outputs": [],
   "source": []
  },
  {
   "cell_type": "code",
   "execution_count": null,
   "id": "0cb7d122",
   "metadata": {},
   "outputs": [],
   "source": []
  },
  {
   "cell_type": "markdown",
   "id": "8d5a4f2d",
   "metadata": {},
   "source": [
    "## Will the station get defeated?"
   ]
  },
  {
   "cell_type": "markdown",
   "id": "60206087",
   "metadata": {},
   "source": [
    "1. Destroy the closest enemy first.. and so on\n",
    "2. While destroying the enemy one by one other enemies will cover one step closer to the station\n",
    "3. If in the mean while any of the enemy invades the station... station gets destroyed\n",
    "4. Each misslies takes 1 unit time to take down one enemy at a time\n",
    "5. Enemy can be merged into single enemy if present at same index... but 2 seperate misslies to take them down ie 2 unit time"
   ]
  },
  {
   "cell_type": "code",
   "execution_count": 259,
   "id": "faf119f9",
   "metadata": {},
   "outputs": [],
   "source": [
    "grid=[[0,0,0,'E',0,0,0],\n",
    "      [0,'X','E',0,'X',0,0],\n",
    "      ['E',0,0,0,0,'X',0],\n",
    "      [0,'X',0,'X',0,0,0],\n",
    "      [0,'X','E',0,0,'X','E']]"
   ]
  },
  {
   "cell_type": "code",
   "execution_count": 260,
   "id": "c4d5a6e2",
   "metadata": {},
   "outputs": [
    {
     "name": "stdout",
     "output_type": "stream",
     "text": [
      "[0, 0, 0, 'E', 0, 0, 0]\n",
      "[0, 'X', 'E', 0, 'X', 0, 0]\n",
      "['E', 0, 0, 0, 0, 'X', 0]\n",
      "[0, 'X', 0, 'X', 0, 0, 0]\n",
      "[0, 'X', 'E', 0, 0, 'X', 'E']\n"
     ]
    }
   ],
   "source": [
    "for i in grid:\n",
    "    print(i)"
   ]
  },
  {
   "cell_type": "code",
   "execution_count": 261,
   "id": "1dafa218",
   "metadata": {},
   "outputs": [
    {
     "name": "stdout",
     "output_type": "stream",
     "text": [
      "2 3 0\n"
     ]
    }
   ],
   "source": [
    "#RADAR WORKS FROM MID OF THE GRID\n",
    "startRow=len(grid)//2\n",
    "startCol=len(grid[0])//2\n",
    "print(startRow,startCol,grid[startRow][startCol])"
   ]
  },
  {
   "cell_type": "code",
   "execution_count": 262,
   "id": "e98a6b39",
   "metadata": {},
   "outputs": [
    {
     "name": "stdout",
     "output_type": "stream",
     "text": [
      "Distances:  [2, 2, 3, 3, 5]\n"
     ]
    }
   ],
   "source": [
    "def EnemyDistance(queue,grid,count,distance):\n",
    "    while queue:\n",
    "        i,j,steps=queue.pop(0)\n",
    "        if i<0 or i>=len(grid)  or j<0 or j>=len(grid[0]):\n",
    "            pass\n",
    "        elif grid[i][j]!=0 and grid[i][j]!='E' and grid[i][j]!='X' and grid[i][j]!='V':\n",
    "            pass\n",
    "        elif grid[i][j]==0: #Not Enemy and mark visited\n",
    "            grid[i][j]=steps+1\n",
    "            queue.append([i-1,j,steps+1])\n",
    "            queue.append([i,j-1,steps+1])\n",
    "            queue.append([i+1,j,steps+1])\n",
    "            queue.append([i,j+1,steps+1])\n",
    "        elif grid[i][j]=='X': #Cant look thought -> Obstruction\n",
    "            pass\n",
    "        elif grid[i][j]=='E': #Enemy Found\n",
    "            grid[i][j]='V' #VISITED\n",
    "            distance.append(steps)\n",
    "    return distance\n",
    "count=0\n",
    "distance=[]\n",
    "distance=EnemyDistance([[startRow,startCol,0]],grid,count,distance)\n",
    "print(\"Distances: \",distance)"
   ]
  },
  {
   "cell_type": "code",
   "execution_count": 263,
   "id": "ed267ff7",
   "metadata": {},
   "outputs": [
    {
     "name": "stdout",
     "output_type": "stream",
     "text": [
      "Defeated\n"
     ]
    }
   ],
   "source": [
    "defeat=0\n",
    "for i in range(len(distance)):  #IF value >= idx in list.... defeated\n",
    "    if i>=distance[i]:\n",
    "        defeat=1\n",
    "        print(\"Defeated\")\n",
    "        break\n",
    "if defeat==0:\n",
    "    print('Won')"
   ]
  }
 ],
 "metadata": {
  "kernelspec": {
   "display_name": "Python 3",
   "language": "python",
   "name": "python3"
  },
  "language_info": {
   "codemirror_mode": {
    "name": "ipython",
    "version": 3
   },
   "file_extension": ".py",
   "mimetype": "text/x-python",
   "name": "python",
   "nbconvert_exporter": "python",
   "pygments_lexer": "ipython3",
   "version": "3.8.8"
  }
 },
 "nbformat": 4,
 "nbformat_minor": 5
}
